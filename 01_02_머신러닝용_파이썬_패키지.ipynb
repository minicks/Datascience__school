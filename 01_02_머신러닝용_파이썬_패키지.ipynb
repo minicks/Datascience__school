{
  "nbformat": 4,
  "nbformat_minor": 0,
  "metadata": {
    "kernelspec": {
      "display_name": "Python 3",
      "language": "python",
      "name": "python3"
    },
    "language_info": {
      "codemirror_mode": {
        "name": "ipython",
        "version": 3
      },
      "file_extension": ".py",
      "mimetype": "text/x-python",
      "name": "python",
      "nbconvert_exporter": "python",
      "pygments_lexer": "ipython3",
      "version": "3.7.0"
    },
    "toc": {
      "base_numbering": 1,
      "nav_menu": {},
      "number_sections": false,
      "sideBar": true,
      "skip_h1_title": false,
      "title_cell": "Table of Contents",
      "title_sidebar": "Contents",
      "toc_cell": false,
      "toc_position": {},
      "toc_section_display": true,
      "toc_window_display": false
    },
    "colab": {
      "name": "01.02 머신러닝용 파이썬 패키지.ipynb",
      "provenance": [],
      "include_colab_link": true
    }
  },
  "cells": [
    {
      "cell_type": "markdown",
      "metadata": {
        "id": "view-in-github",
        "colab_type": "text"
      },
      "source": [
        "<a href=\"https://colab.research.google.com/github/minicks/Datascience__school/blob/main/01_02_%EB%A8%B8%EC%8B%A0%EB%9F%AC%EB%8B%9D%EC%9A%A9_%ED%8C%8C%EC%9D%B4%EC%8D%AC_%ED%8C%A8%ED%82%A4%EC%A7%80.ipynb\" target=\"_parent\"><img src=\"https://colab.research.google.com/assets/colab-badge.svg\" alt=\"Open In Colab\"/></a>"
      ]
    },
    {
      "cell_type": "markdown",
      "metadata": {
        "id": "Kby3SFBUlb_h"
      },
      "source": [
        "## 1.2 머신러닝용 파이썬 패키지"
      ]
    },
    {
      "cell_type": "markdown",
      "metadata": {
        "id": "UkokFL8wlb_l"
      },
      "source": [
        "이 절에서는 머신러닝에서 많이 사용되는 파이썬 패키지를 소개한다. 이 패키지들은 교재의 예제 코드에서 사용되므로 미리 실치하기를 권장한다. pip 또는 conda 패키지 관리자로 설치할 수 있다."
      ]
    },
    {
      "cell_type": "markdown",
      "metadata": {
        "id": "EE-W9ARQlb_m"
      },
      "source": [
        "### 기본 패키지"
      ]
    },
    {
      "cell_type": "markdown",
      "metadata": {
        "id": "FxzAKyBGlb_m"
      },
      "source": [
        "다음에 소개하는 패키지는 머신러닝 뿐 아니라 모든 종류의 데이터 분석 업무에 공통적으로 사용된다. 본 교재의 코드는 항상 이 패키지들을 임포트하고 있다고 가정한다. 자주 사용하는 패키지이므로 짧은 별명(alias)으로 임포트하여 사용하는 경우가 많다."
      ]
    },
    {
      "cell_type": "markdown",
      "metadata": {
        "school_cell_uuid": "8fab59c79c6d4856b8459945d74907e7",
        "id": "OWoOSa26lb_n"
      },
      "source": [
        "#### numpy 패키지"
      ]
    },
    {
      "cell_type": "markdown",
      "metadata": {
        "id": "XzXRH_Kqlb_n"
      },
      "source": [
        "numpy(\"넘파이\"라고 읽는다) 패키지는 파이썬에서 수치 해석, 특히 선형대수 계산 기능을 제공한다. 자료형이 고정된 다차원 배열 클래스(n-dimensional array)와 벡터화 연산(vectorized operation)을 지원하며 수학 연산에서 가장 기본적이고 중요한 패키지다"
      ]
    },
    {
      "cell_type": "markdown",
      "metadata": {
        "id": "nKSGXM_Klb_n"
      },
      "source": [
        "다음 명령으로 설치한다.\n",
        "\n",
        "```\n",
        "pip install numpy\n",
        "```\n",
        "\n",
        "임포트할 때는 보통 `np`라는 별명으로 임포트한다.\n",
        "\n",
        "```\n",
        "import numpy as np\n",
        "```"
      ]
    },
    {
      "cell_type": "markdown",
      "metadata": {
        "school_cell_uuid": "8fab59c79c6d4856b8459945d74907e7",
        "id": "R5WjukKklb_o"
      },
      "source": [
        "#### scipy 패키지"
      ]
    },
    {
      "cell_type": "markdown",
      "metadata": {
        "id": "PDWRUxMllb_o"
      },
      "source": [
        "scipy(\"사이파이\"라고 읽는다) 패키지는 고급 수학 함수, 수치적 미적분, 미분 방정식 계산, 최적화, 신호 처리 등에 사용하는 다양한 과학 기술 계산 기능을 제공한다."
      ]
    },
    {
      "cell_type": "markdown",
      "metadata": {
        "id": "j8vtNMsClb_p"
      },
      "source": [
        "다음 명령으로 설치한다.\n",
        "\n",
        "```\n",
        "pip install scipy\n",
        "```\n",
        "\n",
        "임포트할 때는 보통 `sp`라는 별명으로 임포트한다.\n",
        "\n",
        "```\n",
        "import scipy as sp\n",
        "```"
      ]
    },
    {
      "cell_type": "markdown",
      "metadata": {
        "school_cell_uuid": "8fab59c79c6d4856b8459945d74907e7",
        "id": "cMv1cVJElb_p"
      },
      "source": [
        "#### pandas 패키지"
      ]
    },
    {
      "cell_type": "markdown",
      "metadata": {
        "id": "7ZeGtC38lb_q"
      },
      "source": [
        "pandas(\"판다스\" 또는 \"팬더스\"라고 읽는다) 패키지는 테이블 형태의 데이터를 다루는 데이터프레임(DataFrame) 자료형을 제공한다. 자료 탐색과 정리에 아주 유용하여 데이터 분석에 빠질 수 없는 필수 패키지다. 원래는 R 언어에서 제공하는 데이터프레임 자료형을 파이썬에서 제공할 목적이었으나 더 다양한 기능이 추가되었다."
      ]
    },
    {
      "cell_type": "markdown",
      "metadata": {
        "id": "YncOt4Jolb_q"
      },
      "source": [
        "다음 명령으로 설치한다.\n",
        "\n",
        "```\n",
        "pip install pandas\n",
        "```\n",
        "\n",
        "임포트할 때는 보통 `pd`라는 별명으로 임포트한다.\n",
        "\n",
        "```\n",
        "import pandas as pd\n",
        "```"
      ]
    },
    {
      "cell_type": "markdown",
      "metadata": {
        "school_cell_uuid": "8fab59c79c6d4856b8459945d74907e7",
        "id": "Xfs0btpFlb_q"
      },
      "source": [
        "#### matplotlib 패키지"
      ]
    },
    {
      "cell_type": "markdown",
      "metadata": {
        "id": "iLfDxrESlb_q"
      },
      "source": [
        "matplotlib(\"맷플롯립\"이라고 읽는다) 패키지는 파이썬에서 각종 그래프나 챠트 등을 그리는 시각화 기능을 제공한다. Tkinter, wxPython, Qt, GTK+ 등의 다양한 그래픽 엔진을 사용할 수 있다. 또한 MATLAB의 그래프 기능을 거의 동일하게 사용할 수 있는 pylab이라는 서브패키지를 제공하므로 MATLAB에 익숙한 사람들은 바로 맷플롯립을 사용할 수 있다."
      ]
    },
    {
      "cell_type": "markdown",
      "metadata": {
        "id": "pjFSSWsdlb_r"
      },
      "source": [
        "다음 명령으로 설치한다.\n",
        "\n",
        "```\n",
        "pip install matplotlib\n",
        "```\n",
        "\n",
        "임포트할 때는 보통 pylab 서브패키지를 `plt`라는 별명으로 임포트한다.\n",
        "\n",
        "```\n",
        "import matplotlib.pylab as plt\n",
        "```"
      ]
    },
    {
      "cell_type": "markdown",
      "metadata": {
        "school_cell_uuid": "8fab59c79c6d4856b8459945d74907e7",
        "id": "UT5I4lealb_r"
      },
      "source": [
        "#### seaborn 패키지"
      ]
    },
    {
      "cell_type": "markdown",
      "metadata": {
        "id": "oXOXkWU9lb_r"
      },
      "source": [
        "seaborn(\"시본\"이라고 읽는다) 패키지는 맷플롯립 패키지에서 지원하지 않는 고급 통계 차트를 그리는 통계용 시각화 기능을 제공한다."
      ]
    },
    {
      "cell_type": "markdown",
      "metadata": {
        "id": "TEsOJrEvlb_s"
      },
      "source": [
        "다음 명령으로 설치한다.\n",
        "\n",
        "```\n",
        "pip install seaborn\n",
        "```\n",
        "\n",
        "임포트할 때는 보통 `sns`라는 별명으로 임포트한다.\n",
        "\n",
        "```\n",
        "import seaborn as sns\n",
        "```"
      ]
    },
    {
      "cell_type": "markdown",
      "metadata": {
        "id": "NWS3zjj4lb_s"
      },
      "source": [
        "###  머신러닝 패키지"
      ]
    },
    {
      "cell_type": "markdown",
      "metadata": {
        "school_cell_uuid": "8fab59c79c6d4856b8459945d74907e7",
        "id": "GTkqQam4lb_s"
      },
      "source": [
        "#### statsmodels 패키지"
      ]
    },
    {
      "cell_type": "markdown",
      "metadata": {
        "school_cell_uuid": "08ab853ef7e94712b9c1d6cbfcd26bcf",
        "id": "YFz7vdr7lb_t"
      },
      "source": [
        "statsmodels(\"스탯츠모델즈\"라고 읽는다) 패키지는 추정 및 검정, 회귀분석, 시계열분석 등의 기능을 제공하는 파이썬 패키지다. 기존에 R에서 가능했던 다양한 회귀분석과 시계열분석 방법론을 그대로 파이썬에서 이용할 수 있다. 다음은 statsmodels 패키지가 제공하는 기능의 일부다.\n",
        "\n",
        "* 예제 데이터셋\n",
        "* 검정 및 모수추정\n",
        "* 회귀분석\n",
        " * 선형회귀\n",
        " * 강건회귀\n",
        " * 일반화 선형모형\n",
        " * 혼합효과모형\n",
        " * 이산종속변수\n",
        "* 시계열 분석\n",
        " * SARIMAX 모형\n",
        " * 상태공간 모형\n",
        " * 벡터 AR 모형\n",
        "* 생존분석\n",
        "* 요인분석\n",
        "\n",
        "교재에서는 선형회귀분석, 로지스틱회귀분석, 시계열분석에서 statsmodels 패키지를 사용한다. "
      ]
    },
    {
      "cell_type": "markdown",
      "metadata": {
        "id": "lTwK4Buslb_t"
      },
      "source": [
        "다음 명령으로 설치한다.\n",
        "\n",
        "```\n",
        "pip install statsmodels\n",
        "```\n",
        "\n",
        "임포트할 때는 보통 api 서브패키지를 `sm`이라는 별명으로 임포트한다.\n",
        "\n",
        "```\n",
        "import statsmodels.api as sm\n",
        "```"
      ]
    },
    {
      "cell_type": "markdown",
      "metadata": {
        "school_cell_uuid": "84865712f2da41a9a6cf46b87b4e5405",
        "id": "V5zsR8DBlb_t"
      },
      "source": [
        "#### scikit-learn 패키지"
      ]
    },
    {
      "cell_type": "markdown",
      "metadata": {
        "school_cell_uuid": "2ca8e3c3114b44c2962b17ed41b9e68c",
        "id": "_hNvrcJplb_u"
      },
      "source": [
        "scikit-learn(\"사이킷런\"이라고 읽는다) 패키지는 머신러닝 교육을 위한 최고의 파이썬 패키지다. scikit-learn 패키지의 장점은 다양한 머신러닝 모형을 하나의 패키지에서 모두 제공하고 있다는 점이다. 다음은 scikit-learn 패키지에서 제공하는 머신러닝 모형의 목록의 일부다. \n",
        "\n",
        "* 데이터셋\n",
        "\n",
        "  * 회귀분석, 분류, 클러스터링용 가상 데이터셋 생성\n",
        "  * 각종 벤치마크 데이터셋\n",
        "\n",
        "* 전처리\n",
        "\n",
        "  * 스케일링\n",
        "  * 누락데이터 처리\n",
        "  * 텍스트 토큰화\n",
        "\n",
        "* 지도학습\n",
        "\n",
        "    * 회귀분석\n",
        "    * LDA/QDA\n",
        "    * 서포트벡터머신\n",
        "    * 퍼셉트론, SGD\n",
        "    * KNN\n",
        "    * 가우스프로세스\n",
        "    * 나이브베이즈\n",
        "    * 의사결정나무\n",
        "    * 랜덤포레스트, 부스팅\n",
        "\n",
        "* 비지도학습\n",
        "\n",
        "  * 가우스 혼합모형\n",
        "  * 클러스터링\n",
        "  * PCA\n",
        "  \n",
        "* 성능 최적화\n",
        " \n",
        " * 교차검증\n",
        " * 특징선택\n",
        " * 하이퍼파라미터 최적화\n",
        " "
      ]
    },
    {
      "cell_type": "markdown",
      "metadata": {
        "id": "P7049YnClb_u"
      },
      "source": [
        "설치와 임포트에 사용하는 이름은 sklearn이다. 다음 명령으로 설치한다.\n",
        "\n",
        "```\n",
        "pip install sklearn\n",
        "```\n",
        "\n",
        "임포트할 때는 보통 `sk`이라는 별명으로 임포트한다.\n",
        "\n",
        "```\n",
        "import sklearn as sk\n",
        "```"
      ]
    },
    {
      "cell_type": "markdown",
      "metadata": {
        "id": "88ZP7twhlb_u"
      },
      "source": [
        "### 데이터 전처리용 패키지"
      ]
    },
    {
      "cell_type": "markdown",
      "metadata": {
        "school_cell_uuid": "84865712f2da41a9a6cf46b87b4e5405",
        "id": "kPuIxmvllb_u"
      },
      "source": [
        "#### missingno 패키지"
      ]
    },
    {
      "cell_type": "markdown",
      "metadata": {
        "school_cell_uuid": "84865712f2da41a9a6cf46b87b4e5405",
        "id": "yBwn7PDzlb_v"
      },
      "source": [
        "pandas 데이터프레임 데이터에서 누락된 데이터를 찾고 시각화하는 기능을 제공한다.\n",
        "\n",
        "다음 명령으로 설치한다.\n",
        "\n",
        "```\n",
        "pip install missingno\n",
        "```"
      ]
    },
    {
      "cell_type": "markdown",
      "metadata": {
        "school_cell_uuid": "84865712f2da41a9a6cf46b87b4e5405",
        "id": "g2vpo1Rxlb_v"
      },
      "source": [
        "#### patsy 패키지"
      ]
    },
    {
      "cell_type": "markdown",
      "metadata": {
        "school_cell_uuid": "84865712f2da41a9a6cf46b87b4e5405",
        "id": "vM6kfE2alb_v"
      },
      "source": [
        "pandas 데이터프레임 데이터에서 선택, 변형하는 기능을 제공한다.\n",
        "\n",
        "statsmodels가 의존하는 패키지이므로 statsmodels 패키지를 설치하면 별도로 설치할 필요가 없다."
      ]
    },
    {
      "cell_type": "markdown",
      "metadata": {
        "id": "ZrZoCD8llb_v"
      },
      "source": [
        "### 텍스트 전처리용 패키지"
      ]
    },
    {
      "cell_type": "markdown",
      "metadata": {
        "school_cell_uuid": "84865712f2da41a9a6cf46b87b4e5405",
        "id": "RHWPDidxlb_v"
      },
      "source": [
        "#### nltk 패키지"
      ]
    },
    {
      "cell_type": "markdown",
      "metadata": {
        "school_cell_uuid": "84865712f2da41a9a6cf46b87b4e5405",
        "id": "a_U1vJqtlb_w"
      },
      "source": [
        "#### spacy 패키지"
      ]
    },
    {
      "cell_type": "markdown",
      "metadata": {
        "school_cell_uuid": "84865712f2da41a9a6cf46b87b4e5405",
        "id": "QabIa-rplb_w"
      },
      "source": [
        "#### konlpy 패키지"
      ]
    },
    {
      "cell_type": "markdown",
      "metadata": {
        "school_cell_uuid": "84865712f2da41a9a6cf46b87b4e5405",
        "id": "aWJ1T3T7lb_w"
      },
      "source": [
        "#### soynlp 패키지"
      ]
    },
    {
      "cell_type": "markdown",
      "metadata": {
        "school_cell_uuid": "84865712f2da41a9a6cf46b87b4e5405",
        "id": "favzcUSelb_w"
      },
      "source": [
        "#### gensim 패키지"
      ]
    },
    {
      "cell_type": "markdown",
      "metadata": {
        "id": "vR8T8SxUlb_x"
      },
      "source": [
        "### 이미지 전처리용 패키지"
      ]
    },
    {
      "cell_type": "markdown",
      "metadata": {
        "school_cell_uuid": "84865712f2da41a9a6cf46b87b4e5405",
        "id": "cHZqTGXflb_x"
      },
      "source": [
        "#### opencv 패키지"
      ]
    },
    {
      "cell_type": "markdown",
      "metadata": {
        "id": "oCmrzUXTlb_x"
      },
      "source": [
        "### 사운드 전처리용 패키지"
      ]
    },
    {
      "cell_type": "markdown",
      "metadata": {
        "school_cell_uuid": "84865712f2da41a9a6cf46b87b4e5405",
        "id": "iBdn7M37lb_x"
      },
      "source": [
        "#### librosa 패키지"
      ]
    },
    {
      "cell_type": "markdown",
      "metadata": {
        "id": "InPnrv41lb_x"
      },
      "source": [
        "### 지리정보 전처리용 패키지"
      ]
    },
    {
      "cell_type": "markdown",
      "metadata": {
        "school_cell_uuid": "84865712f2da41a9a6cf46b87b4e5405",
        "id": "k86zGnrrlb_x"
      },
      "source": [
        "#### geopandas 패키지"
      ]
    }
  ]
}