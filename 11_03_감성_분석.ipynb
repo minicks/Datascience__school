{
  "nbformat": 4,
  "nbformat_minor": 0,
  "metadata": {
    "kernelspec": {
      "display_name": "Python 3",
      "language": "python",
      "name": "python3"
    },
    "language_info": {
      "codemirror_mode": {
        "name": "ipython",
        "version": 3
      },
      "file_extension": ".py",
      "mimetype": "text/x-python",
      "name": "python",
      "nbconvert_exporter": "python",
      "pygments_lexer": "ipython3",
      "version": "3.6.6"
    },
    "toc": {
      "base_numbering": 1,
      "nav_menu": {},
      "number_sections": false,
      "sideBar": true,
      "skip_h1_title": false,
      "title_cell": "Table of Contents",
      "title_sidebar": "Contents",
      "toc_cell": false,
      "toc_position": {},
      "toc_section_display": true,
      "toc_window_display": false
    },
    "colab": {
      "name": "11.03 감성 분석.ipynb",
      "provenance": [],
      "include_colab_link": true
    }
  },
  "cells": [
    {
      "cell_type": "markdown",
      "metadata": {
        "id": "view-in-github",
        "colab_type": "text"
      },
      "source": [
        "<a href=\"https://colab.research.google.com/github/minicks/Datascience__school/blob/main/11_03_%EA%B0%90%EC%84%B1_%EB%B6%84%EC%84%9D.ipynb\" target=\"_parent\"><img src=\"https://colab.research.google.com/assets/colab-badge.svg\" alt=\"Open In Colab\"/></a>"
      ]
    },
    {
      "cell_type": "markdown",
      "metadata": {
        "school_cell_uuid": "fa35748e638c484ba38104de2edc0265",
        "id": "H3FPR-f5GhET"
      },
      "source": [
        "# 감성 분석"
      ]
    },
    {
      "cell_type": "markdown",
      "metadata": {
        "school_cell_uuid": "f0c9428c43d248758d87f47ed7853018",
        "id": "FhfjkLyYGhE2"
      },
      "source": [
        "앞에서 공부한 나이브 베이즈 분류 모형을 이용하여 문서에 대한 감성 분석(sentiment analysis)를 해보자. 감성 분석이란 문서에 대해 좋다(positive) 혹은 나쁘다(negative)는 평가를 내리는 것을 말한다.\n",
        "\n",
        "샘플 데이터로는 github에 올려져 있는 네이버 영화 감상평에 대한 감성 분석 예제를 이용한다.\n",
        "\n",
        "* https://github.com/e9t/nsmc"
      ]
    },
    {
      "cell_type": "markdown",
      "metadata": {
        "school_cell_uuid": "581551ab167b4a0aa2868c24f578e6bd",
        "id": "2-gD5qqRGhE5"
      },
      "source": [
        "## 데이터 전처리"
      ]
    },
    {
      "cell_type": "markdown",
      "metadata": {
        "school_cell_uuid": "647593c340cc4955a0f8c2d2689d7eb4",
        "id": "0Zc5FbB0GhE6"
      },
      "source": [
        "우선 데이터를 다운로드 받아서 읽어보자."
      ]
    },
    {
      "cell_type": "code",
      "metadata": {
        "school_cell_uuid": "8b5ad8d15bd3414291c18716613ebc8f",
        "id": "dx9OS9dhGhE7",
        "outputId": "0a3f0c37-ee40-444f-f679-406716851638"
      },
      "source": [
        "%%time\n",
        "!rm -f ratings_train.txt ratings_test.txt\n",
        "!wget -nc https://raw.githubusercontent.com/e9t/nsmc/master/ratings_train.txt\n",
        "!wget -nc https://raw.githubusercontent.com/e9t/nsmc/master/ratings_test.txt"
      ],
      "execution_count": null,
      "outputs": [
        {
          "output_type": "stream",
          "text": [
            "--2018-12-06 20:07:59--  https://raw.githubusercontent.com/e9t/nsmc/master/ratings_train.txt\n",
            "Resolving raw.githubusercontent.com (raw.githubusercontent.com)... 151.101.72.133\n",
            "Connecting to raw.githubusercontent.com (raw.githubusercontent.com)|151.101.72.133|:443... connected.\n",
            "HTTP request sent, awaiting response... 200 OK\n",
            "Length: 14628807 (14M) [text/plain]\n",
            "Saving to: ‘ratings_train.txt’\n",
            "\n",
            "ratings_train.txt   100%[===================>]  13.95M  7.27MB/s    in 1.9s    \n",
            "\n",
            "2018-12-06 20:08:02 (7.27 MB/s) - ‘ratings_train.txt’ saved [14628807/14628807]\n",
            "\n",
            "--2018-12-06 20:08:02--  https://raw.githubusercontent.com/e9t/nsmc/master/ratings_test.txt\n",
            "Resolving raw.githubusercontent.com (raw.githubusercontent.com)... 151.101.72.133\n",
            "Connecting to raw.githubusercontent.com (raw.githubusercontent.com)|151.101.72.133|:443... connected.\n",
            "HTTP request sent, awaiting response... 200 OK\n",
            "Length: 4893335 (4.7M) [text/plain]\n",
            "Saving to: ‘ratings_test.txt’\n",
            "\n",
            "ratings_test.txt    100%[===================>]   4.67M  5.31MB/s    in 0.9s    \n",
            "\n",
            "2018-12-06 20:08:03 (5.31 MB/s) - ‘ratings_test.txt’ saved [4893335/4893335]\n",
            "\n",
            "CPU times: user 114 ms, sys: 52.2 ms, total: 166 ms\n",
            "Wall time: 4.11 s\n"
          ],
          "name": "stdout"
        }
      ]
    },
    {
      "cell_type": "markdown",
      "metadata": {
        "school_cell_uuid": "ceaa2782048c4716a7b8c36e9a463625",
        "id": "_NETq0g8GhE_"
      },
      "source": [
        "여기에서는 유니코드로 인코딩하며 읽기 위해 codecs 패키지를 사용한다. 읽어들인 결과는 유니코드 문자열이 된다."
      ]
    },
    {
      "cell_type": "code",
      "metadata": {
        "school_cell_uuid": "d890841d268b4a8cb26dd706300e8572",
        "id": "Wvdwpp5zGhFC"
      },
      "source": [
        "import codecs\n",
        "with codecs.open(\"ratings_train.txt\", encoding='utf-8') as f:\n",
        "    data = [line.split('\\t') for line in f.read().splitlines()]\n",
        "    data = data[1:]   # header 제외"
      ],
      "execution_count": null,
      "outputs": []
    },
    {
      "cell_type": "markdown",
      "metadata": {
        "school_cell_uuid": "2095a3de92c54642abdee4c25a436861",
        "id": "b-yGzLQLGhFD"
      },
      "source": [
        "이 데이터는 번호, 내용, 평점으로 이루져 있으므로 내용을 X, 평점을 y로 저장한다."
      ]
    },
    {
      "cell_type": "code",
      "metadata": {
        "school_cell_uuid": "6295dfac31a8416dabc3193f00c27af8",
        "id": "_8dYJv57GhFD",
        "outputId": "b7851ecd-d294-43d1-e9b7-8feb76c472c6"
      },
      "source": [
        "from pprint import pprint\n",
        "pprint(data[0])"
      ],
      "execution_count": null,
      "outputs": [
        {
          "output_type": "stream",
          "text": [
            "['9976970', '아 더빙.. 진짜 짜증나네요 목소리', '0']\n"
          ],
          "name": "stdout"
        }
      ]
    },
    {
      "cell_type": "code",
      "metadata": {
        "school_cell_uuid": "9db8090593cd4efbb4c1bac3b76192b3",
        "id": "h76eJuCTGhFF"
      },
      "source": [
        "X = list(zip(*data))[1]\n",
        "y = np.array(list(zip(*data))[2], dtype=int)"
      ],
      "execution_count": null,
      "outputs": []
    },
    {
      "cell_type": "markdown",
      "metadata": {
        "school_cell_uuid": "24648c96efb7412bbdaceabf2622fc2e",
        "id": "SQSbC1UaGhFG"
      },
      "source": [
        "이제 이 데이터를 다항 나이브 베이즈 모형으로 학습시킨다."
      ]
    },
    {
      "cell_type": "code",
      "metadata": {
        "school_cell_uuid": "a511416e1e884c82a0c54f7c202a441c",
        "id": "_Sf5V7CnGhFG"
      },
      "source": [
        "from sklearn.feature_extraction.text import CountVectorizer\n",
        "from sklearn.naive_bayes import MultinomialNB\n",
        "from sklearn.pipeline import Pipeline\n",
        "from sklearn.metrics import classification_report\n",
        "\n",
        "model1 = Pipeline([\n",
        "    ('vect', CountVectorizer()),\n",
        "    ('mb', MultinomialNB()),\n",
        "])"
      ],
      "execution_count": null,
      "outputs": []
    },
    {
      "cell_type": "code",
      "metadata": {
        "school_cell_uuid": "114010a5f76d43cdaef2382a7f700936",
        "id": "4VyyCdTJGhFI",
        "outputId": "d20a6f4b-1cd2-4910-f135-dafc1886ee29"
      },
      "source": [
        "%%time\n",
        "model1.fit(X, y)"
      ],
      "execution_count": null,
      "outputs": [
        {
          "output_type": "stream",
          "text": [
            "CPU times: user 2.03 s, sys: 88.5 ms, total: 2.12 s\n",
            "Wall time: 2.13 s\n"
          ],
          "name": "stdout"
        },
        {
          "output_type": "execute_result",
          "data": {
            "text/plain": [
              "Pipeline(memory=None,\n",
              "     steps=[('vect', CountVectorizer(analyzer='word', binary=False, decode_error='strict',\n",
              "        dtype=<class 'numpy.int64'>, encoding='utf-8', input='content',\n",
              "        lowercase=True, max_df=1.0, max_features=None, min_df=1,\n",
              "        ngram_range=(1, 1), preprocessor=None, stop_words=None,\n",
              "        strip_accents=None, token_pattern='(?u)\\\\b\\\\w\\\\w+\\\\b',\n",
              "        tokenizer=None, vocabulary=None)), ('mb', MultinomialNB(alpha=1.0, class_prior=None, fit_prior=True))])"
            ]
          },
          "metadata": {
            "tags": []
          },
          "execution_count": 6
        }
      ]
    },
    {
      "cell_type": "markdown",
      "metadata": {
        "school_cell_uuid": "deb7613b90c74366a4ee5a0bc5255ab3",
        "id": "qF0BXU8NGhFJ"
      },
      "source": [
        "모형의 성능을 보기 위해 테스트 데이터도 읽어들인다."
      ]
    },
    {
      "cell_type": "code",
      "metadata": {
        "school_cell_uuid": "d6378922aa5d437eb99234147c1f86a5",
        "id": "7c7ixduNGhFJ"
      },
      "source": [
        "import codecs\n",
        "with codecs.open(\"ratings_test.txt\", encoding='utf-8') as f:\n",
        "    data_test = [line.split('\\t') for line in f.read().splitlines()]\n",
        "    data_test = data_test[1:]   # header 제외"
      ],
      "execution_count": null,
      "outputs": []
    },
    {
      "cell_type": "code",
      "metadata": {
        "school_cell_uuid": "2686123aacde45399fb55e7d893a14ec",
        "id": "c9orqzWRGhFK",
        "outputId": "fc84e88f-02d7-42f9-b084-2f4edecb3431"
      },
      "source": [
        "X_test = list(zip(*data_test))[1]\n",
        "y_test = np.array(list(zip(*data_test))[2], dtype=int)\n",
        "\n",
        "print(classification_report(y_test, model1.predict(X_test)))"
      ],
      "execution_count": null,
      "outputs": [
        {
          "output_type": "stream",
          "text": [
            "              precision    recall  f1-score   support\n",
            "\n",
            "           0       0.81      0.84      0.83     24827\n",
            "           1       0.84      0.81      0.82     25173\n",
            "\n",
            "   micro avg       0.83      0.83      0.83     50000\n",
            "   macro avg       0.83      0.83      0.83     50000\n",
            "weighted avg       0.83      0.83      0.83     50000\n",
            "\n"
          ],
          "name": "stdout"
        }
      ]
    },
    {
      "cell_type": "markdown",
      "metadata": {
        "school_cell_uuid": "c176296c1d58436f861c6204d741ae15",
        "id": "LJU6m7OnGhFO"
      },
      "source": [
        "이 결과를 Tfidf 방법을 사용했을 때와 비교해 보자."
      ]
    },
    {
      "cell_type": "code",
      "metadata": {
        "school_cell_uuid": "4e82596bfe7b4b10bbb69b8a456b84a8",
        "id": "jF_6cxZ0GhFP"
      },
      "source": [
        "from sklearn.feature_extraction.text import TfidfVectorizer\n",
        "\n",
        "model2 = Pipeline([\n",
        "    ('vect', TfidfVectorizer()),\n",
        "    ('mb', MultinomialNB()),\n",
        "])"
      ],
      "execution_count": null,
      "outputs": []
    },
    {
      "cell_type": "code",
      "metadata": {
        "school_cell_uuid": "ff0c514f834b45ce94f60901f551921e",
        "id": "LuJjw_m5GhFP",
        "outputId": "24ff4db1-43ee-4227-9b9a-1cd33cf67f8b"
      },
      "source": [
        "%%time\n",
        "model2.fit(X, y)"
      ],
      "execution_count": null,
      "outputs": [
        {
          "output_type": "stream",
          "text": [
            "CPU times: user 2.08 s, sys: 82.4 ms, total: 2.16 s\n",
            "Wall time: 2.16 s\n"
          ],
          "name": "stdout"
        },
        {
          "output_type": "execute_result",
          "data": {
            "text/plain": [
              "Pipeline(memory=None,\n",
              "     steps=[('vect', TfidfVectorizer(analyzer='word', binary=False, decode_error='strict',\n",
              "        dtype=<class 'numpy.float64'>, encoding='utf-8', input='content',\n",
              "        lowercase=True, max_df=1.0, max_features=None, min_df=1,\n",
              "        ngram_range=(1, 1), norm='l2', preprocessor=None, smooth_idf=True,\n",
              "...True,\n",
              "        vocabulary=None)), ('mb', MultinomialNB(alpha=1.0, class_prior=None, fit_prior=True))])"
            ]
          },
          "metadata": {
            "tags": []
          },
          "execution_count": 10
        }
      ]
    },
    {
      "cell_type": "code",
      "metadata": {
        "school_cell_uuid": "f89cfb3befc64b42be3c2d0db1b9acc6",
        "id": "p9NiXvVCGhFQ",
        "outputId": "90f84661-31da-497a-922c-174923027298"
      },
      "source": [
        "print(classification_report(y_test, model2.predict(X_test)))"
      ],
      "execution_count": null,
      "outputs": [
        {
          "output_type": "stream",
          "text": [
            "              precision    recall  f1-score   support\n",
            "\n",
            "           0       0.81      0.84      0.83     24827\n",
            "           1       0.84      0.81      0.83     25173\n",
            "\n",
            "   micro avg       0.83      0.83      0.83     50000\n",
            "   macro avg       0.83      0.83      0.83     50000\n",
            "weighted avg       0.83      0.83      0.83     50000\n",
            "\n"
          ],
          "name": "stdout"
        }
      ]
    },
    {
      "cell_type": "markdown",
      "metadata": {
        "school_cell_uuid": "22aab079fa6c4ba2a18971c32a86ad2a",
        "id": "v_dUyKEEGhFR"
      },
      "source": [
        "이번에는 형태소 분석기를 사용한 결과와 비교한다."
      ]
    },
    {
      "cell_type": "code",
      "metadata": {
        "school_cell_uuid": "56438b6b1a654eabbbe8339381963900",
        "id": "6sIKVEGkGhFR"
      },
      "source": [
        "from konlpy.tag import Okt\n",
        "pos_tagger = Okt()\n",
        "\n",
        "def tokenize_pos(doc):\n",
        "    return ['/'.join(t) for t in pos_tagger.pos(doc)]"
      ],
      "execution_count": null,
      "outputs": []
    },
    {
      "cell_type": "code",
      "metadata": {
        "school_cell_uuid": "00cc37bcfd804a2fa056aca320084fde",
        "id": "6lRwuRKqGhFS"
      },
      "source": [
        "model3 = Pipeline([\n",
        "    ('vect', CountVectorizer(tokenizer=tokenize_pos)),\n",
        "    ('mb', MultinomialNB()),\n",
        "])"
      ],
      "execution_count": null,
      "outputs": []
    },
    {
      "cell_type": "code",
      "metadata": {
        "school_cell_uuid": "77291e70317b424ca6575bef59e6c402",
        "id": "V04rJ_H_GhFT",
        "outputId": "897b80c0-838e-4c0e-9870-ea2a24e607c1"
      },
      "source": [
        "%%time\n",
        "model3.fit(X, y)"
      ],
      "execution_count": null,
      "outputs": [
        {
          "output_type": "stream",
          "text": [
            "CPU times: user 3min 52s, sys: 1.04 s, total: 3min 53s\n",
            "Wall time: 3min 39s\n"
          ],
          "name": "stdout"
        },
        {
          "output_type": "execute_result",
          "data": {
            "text/plain": [
              "Pipeline(memory=None,\n",
              "     steps=[('vect', CountVectorizer(analyzer='word', binary=False, decode_error='strict',\n",
              "        dtype=<class 'numpy.int64'>, encoding='utf-8', input='content',\n",
              "        lowercase=True, max_df=1.0, max_features=None, min_df=1,\n",
              "        ngram_range=(1, 1), preprocessor=None, stop_words=None,\n",
              "        strip_accents=None, token_pattern='(?u)\\\\b\\\\w\\\\w+\\\\b',\n",
              "        tokenizer=<function tokenize_pos at 0x11bbc9d90>, vocabulary=None)), ('mb', MultinomialNB(alpha=1.0, class_prior=None, fit_prior=True))])"
            ]
          },
          "metadata": {
            "tags": []
          },
          "execution_count": 14
        }
      ]
    },
    {
      "cell_type": "code",
      "metadata": {
        "school_cell_uuid": "8a8c44576d4a45298951344ea497be92",
        "id": "hDub71W7GhFT",
        "outputId": "2f0fe11d-993c-4c50-b8b9-37c2c108e07b"
      },
      "source": [
        "print(classification_report(y_test, model3.predict(X_test)))"
      ],
      "execution_count": null,
      "outputs": [
        {
          "output_type": "stream",
          "text": [
            "              precision    recall  f1-score   support\n",
            "\n",
            "           0       0.85      0.86      0.85     24827\n",
            "           1       0.86      0.85      0.85     25173\n",
            "\n",
            "   micro avg       0.85      0.85      0.85     50000\n",
            "   macro avg       0.85      0.85      0.85     50000\n",
            "weighted avg       0.85      0.85      0.85     50000\n",
            "\n"
          ],
          "name": "stdout"
        }
      ]
    },
    {
      "cell_type": "markdown",
      "metadata": {
        "school_cell_uuid": "3520a7a3e56741f180b355819fa0a017",
        "id": "25WUO_e1GhFU"
      },
      "source": [
        "(1,2)-gram 을 사용하면 성능이 더 개선되는 것을 볼 수 있다."
      ]
    },
    {
      "cell_type": "code",
      "metadata": {
        "school_cell_uuid": "5f79d48916a740cfbfd14ca37fc3824c",
        "id": "-7gTEP-bGhFV"
      },
      "source": [
        "model4 = Pipeline([\n",
        "    ('vect', TfidfVectorizer(tokenizer=tokenize_pos, ngram_range=(1, 2))),\n",
        "    ('mb', MultinomialNB()),\n",
        "])"
      ],
      "execution_count": null,
      "outputs": []
    },
    {
      "cell_type": "code",
      "metadata": {
        "school_cell_uuid": "d4a5450147184734aca7a0db5b85f66b",
        "id": "Pie30SsVGhFV",
        "outputId": "eae088dc-853c-4536-dc79-2a49960ec4a2"
      },
      "source": [
        "%%time\n",
        "model4.fit(X, y)"
      ],
      "execution_count": null,
      "outputs": [
        {
          "output_type": "stream",
          "text": [
            "CPU times: user 3min 44s, sys: 873 ms, total: 3min 45s\n",
            "Wall time: 3min 43s\n"
          ],
          "name": "stdout"
        },
        {
          "output_type": "execute_result",
          "data": {
            "text/plain": [
              "Pipeline(memory=None,\n",
              "     steps=[('vect', TfidfVectorizer(analyzer='word', binary=False, decode_error='strict',\n",
              "        dtype=<class 'numpy.float64'>, encoding='utf-8', input='content',\n",
              "        lowercase=True, max_df=1.0, max_features=None, min_df=1,\n",
              "        ngram_range=(1, 2), norm='l2', preprocessor=None, smooth_idf=True,\n",
              "...True,\n",
              "        vocabulary=None)), ('mb', MultinomialNB(alpha=1.0, class_prior=None, fit_prior=True))])"
            ]
          },
          "metadata": {
            "tags": []
          },
          "execution_count": 17
        }
      ]
    },
    {
      "cell_type": "code",
      "metadata": {
        "school_cell_uuid": "466aa13c945f49f79f19a35de9b6e5ff",
        "id": "RfPMW1LBGhFW",
        "outputId": "dae1e987-ed58-433a-8d25-f1178f1108c5"
      },
      "source": [
        "print(classification_report(y_test, model4.predict(X_test)))"
      ],
      "execution_count": null,
      "outputs": [
        {
          "output_type": "stream",
          "text": [
            "              precision    recall  f1-score   support\n",
            "\n",
            "           0       0.86      0.87      0.87     24827\n",
            "           1       0.87      0.86      0.87     25173\n",
            "\n",
            "   micro avg       0.87      0.87      0.87     50000\n",
            "   macro avg       0.87      0.87      0.87     50000\n",
            "weighted avg       0.87      0.87      0.87     50000\n",
            "\n"
          ],
          "name": "stdout"
        }
      ]
    }
  ]
}