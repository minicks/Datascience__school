{
  "nbformat": 4,
  "nbformat_minor": 0,
  "metadata": {
    "kernelspec": {
      "display_name": "Python 3",
      "language": "python",
      "name": "python3"
    },
    "language_info": {
      "codemirror_mode": {
        "name": "ipython",
        "version": 3
      },
      "file_extension": ".py",
      "mimetype": "text/x-python",
      "name": "python",
      "nbconvert_exporter": "python",
      "pygments_lexer": "ipython3",
      "version": "3.7.0"
    },
    "colab": {
      "name": "17.03 네트워크 추론.ipynb",
      "provenance": [],
      "include_colab_link": true
    }
  },
  "cells": [
    {
      "cell_type": "markdown",
      "metadata": {
        "id": "view-in-github",
        "colab_type": "text"
      },
      "source": [
        "<a href=\"https://colab.research.google.com/github/minicks/Datascience__school/blob/main/17_03_%EB%84%A4%ED%8A%B8%EC%9B%8C%ED%81%AC_%EC%B6%94%EB%A1%A0.ipynb\" target=\"_parent\"><img src=\"https://colab.research.google.com/assets/colab-badge.svg\" alt=\"Open In Colab\"/></a>"
      ]
    },
    {
      "cell_type": "markdown",
      "metadata": {
        "id": "S0Vhfu1f-bb_"
      },
      "source": [
        "# 네트워크 추론"
      ]
    },
    {
      "cell_type": "markdown",
      "metadata": {
        "id": "VBJXtE6Y-bdM"
      },
      "source": [
        "확률모형에서 일부 확률변수의 값이 주어졌을 때 다른 확률변수의 값이 얼마인지를 알아내는 것을 추론(inference)라고 한다. \n",
        "\n",
        "조건부 확률분포함수 $p(X_{\\text{unknown}}|\\{X\\}_{\\text{known}})$를 알면 일부 확률변수의 값 $\\{X\\}_{\\text{known}}$이 주어졌을 때 다른 확률변수 $X_{\\text{unknown}}$의 확률 $p(X_{\\text{unknown}})$을 알 수 있으므로 추론은 조건부 확률분포함수 $p(X_{\\text{unknown}}|\\{X\\}_{\\text{known}})$를 알아내는 것과 같다."
      ]
    },
    {
      "cell_type": "markdown",
      "metadata": {
        "id": "bQ0c_WlA-bdQ"
      },
      "source": [
        "앞에서 사용했던 예를 다시 들어보자. 확률변수 $A, B, C$가 각각 어떤 학생의 \n",
        "\n",
        "* A: 건강 상태\n",
        "* B: 공부 시간\n",
        "* C: 시험 성적\n",
        "\n",
        "을 나타낸 것이고 이 확률변수는 각각 $\\{0, 1, 2\\}$라는 값을 가질 수 있는데 하(0), 중(1), 상(2)의 상태를 나타낸다.  "
      ]
    },
    {
      "cell_type": "code",
      "metadata": {
        "id": "W8Vh0vbp-bdS",
        "outputId": "cef8c76b-c9f1-4418-cb57-6eef5541d0a0"
      },
      "source": [
        "from IPython.core.display import Image\n",
        "from networkx.drawing.nx_pydot import to_pydot\n",
        "\n",
        "from pgmpy.factors.discrete import TabularCPD\n",
        "from pgmpy.models import BayesianModel\n",
        "\n",
        "\n",
        "P_A = TabularCPD('A', 3, [[0.1, 0.6, 0.3]])\n",
        "P_B_I_A = TabularCPD('B', 3, \n",
        "    np.array([[0.6, 0.2, 0.2], [0.3, 0.5, 0.2], [0.1, 0.3, 0.6]]),\n",
        "    evidence=['A'], evidence_card=[3])\n",
        "P_C_I_B = TabularCPD('C', 3, \n",
        "    np.array([[0.8, 0.1, 0.1], [0.1, 0.8, 0.1], [0.1, 0.1, 0.8]]),\n",
        "    evidence=['B'], evidence_card=[3])\n",
        "                     \n",
        "model = BayesianModel([('A', 'B'), ('B', 'C')])\n",
        "model.add_cpds(P_A, P_B_I_A, P_C_I_B)\n",
        "\n",
        "d = to_pydot(model)\n",
        "d.set_dpi(300)\n",
        "d.set_margin(0.2)\n",
        "d.set_rankdir(\"LR\")\n",
        "Image(d.create_png(), width=600)"
      ],
      "execution_count": null,
      "outputs": [
        {
          "output_type": "execute_result",
          "data": {
            "image/png": "[encoded data removed]",
            "text/plain": [
              "<IPython.core.display.Image object>"
            ]
          },
          "metadata": {
            "tags": [],
            "image/png": {
              "width": 600
            }
          },
          "execution_count": 1
        }
      ]
    },
    {
      "cell_type": "markdown",
      "metadata": {
        "id": "BTqThiNC-bdl"
      },
      "source": [
        "이 그래프 확률모형을 기반으로 다음과 같은 문제를 풀어보자.\n",
        "\n",
        "1. 이 학생의 시험 성적이 어떤 확률분포를 가질 것인가? 어떤 성적을 맞을 확률이 가장 높은가?\n",
        "2. 이 학생의 건강 상태가 좋았다. 어떤 성적을 맞을 확률이 가장 높은가?\n",
        "3. 이 학생의 공부 시간이 적었지만 시험 성적은 좋았다. 건강 상태가 어땠을까?\n",
        "\n",
        "1번 문제는 무조건부 확률분포함수 $P(C)$를 찾는 것이다. \n",
        "2번 문제는 조건부 확률분포함수 $P(C|A=2)$를 찾는 것이고 3번 문제는 조건부 확률분포함수 $P(A|B=0, C=2)$를 찾는 문제이다."
      ]
    },
    {
      "cell_type": "markdown",
      "metadata": {
        "id": "M7ibU5R2-bdn"
      },
      "source": [
        "베이지안 네트워크나 마코프 네트워크와 같은 그래프 확률모형에서 추론을 하려면\n",
        "\n",
        "* 변수제거(variable elimination)\n",
        "* 신뢰전파(belief propagation)\n",
        "\n",
        "방법을 사용한다."
      ]
    },
    {
      "cell_type": "markdown",
      "metadata": {
        "id": "CSddeXQX-bds"
      },
      "source": [
        "## 변수제거"
      ]
    },
    {
      "cell_type": "markdown",
      "metadata": {
        "id": "mav3dik4-bdt"
      },
      "source": [
        "위에서 예로 든 모형의 경우 결합확률분포는 다음과 같다.\n",
        "\n",
        "$$ P(A, B, C) = P(A)P(B|A)P(C|B) $$\n",
        "\n",
        "우선 특정한 확률변수의 무조건부 확률분포를 구하는 방법을 알아보자. 우선 $C$ 분포함수를 알 때 $B$의 분포함수는 다음처럼 구한다.\n",
        "\n",
        "$$ \n",
        "\\begin{eqnarray}\n",
        "P(B=0) \n",
        "&=& \\sum_A P(B=0|A)P(A) \\\\\n",
        "&=& P(B=0|A=0)P(A=0) + P(B=0|A=1)P(A=1) + P(B=0|A=2)P(A=2) \\\\\n",
        "\\end{eqnarray}\n",
        "$$\n",
        "\n",
        "$B=1, B=2$인 경우에도 같은 방법으로 계산한다."
      ]
    },
    {
      "cell_type": "markdown",
      "metadata": {
        "id": "kQ8qh3qp-bdy"
      },
      "source": [
        "이번에는 $C$의 분포함수를 계산하자.\n",
        "\n",
        "$$\n",
        "\\begin{eqnarray}\n",
        "P(C) \n",
        "&=& \\sum_{A, B} P(C|B)P(B|A)P(A) \\\\\n",
        "\\end{eqnarray}\n",
        "$$\n",
        "\n",
        "여기에서 $\\sum_{A, B}$는 $A, B$가 가질 수 있는 모든 조합의 경우를 뜻한다.\n",
        "\n",
        "$$ \\sum_{A, B} = \\sum_{A} \\sum_{B} $$\n",
        "\n",
        "따라서 \n",
        "\n",
        "$$\n",
        "\\begin{eqnarray}\n",
        "P(C=0) \n",
        "&=& P(C=0|B=0)P(B=0|A=0)P(A=0) + P(C=0|B=0)P(B=0|A=1)P(A=1) + P(C=0|B=0)P(B=0|A=2)P(A=2) + \\\\\n",
        "& & P(C=0|B=1)P(B=1|A=0)P(A=0) + P(C=0|B=1)P(B=1|A=1)P(A=1) + P(C=0|B=1)P(B=1|A=2)P(A=2) + \\\\\n",
        "& & P(C=0|B=2)P(B=2|A=0)P(A=0) + P(C=0|B=2)P(B=2|A=1)P(A=1) + P(C=0|B=2)P(B=2|A=2)P(A=2) \\\\\n",
        "\\end{eqnarray}\n",
        "$$\n",
        "\n",
        "와 같이 $P(C=0)$을 구할 수 있다. 이제 계산량을 줄이기 위해 같은 계산은 인수분해로 묶어보면 \n",
        "\n",
        "$$\n",
        "\\begin{eqnarray}\n",
        "P(C=0) \n",
        "&=& P(C=0|B=0) \\big( P(B=0|A=0)P(A=0) + P(B=0|A=1)P(A=1) + P(B=0|A=2)P(A=2) \\big) + \\\\\n",
        "& & P(C=0|B=1) \\big( P(B=1|A=0)P(A=0) + P(B=1|A=1)P(A=1) + P(B=1|A=2)P(A=2) \\big) + \\\\\n",
        "& & P(C=0|B=2) \\big( P(B=2|A=0)P(A=0) + P(B=2|A=1)P(A=1) + P(B=2|A=2)P(A=2) \\big) \\\\\n",
        "&=& P(C=0|B=0) P(B=0) + \\\\\n",
        "& & P(C=0|B=1) P(B=1) + \\\\\n",
        "& & P(C=0|B=2) P(B=2) \\\\\n",
        "\\end{eqnarray}\n",
        "$$\n",
        "\n",
        "즉, 확률변수 $B$의 분포가 이미 계산된 상태라면 확률변수 $A$의 영향은 없어진다.\n",
        "\n",
        "$$ P(C) = \\sum_{B} P(C|B)P(B) $$\n",
        "\n",
        "이런 식으로 값을 알고 있는 확률변수 혹은 무조건부 확률변수분포를 알고있는 확률변수부터 네트워크를 따라 차례대로 확률분포를 계산하는 방식을 변수제거(variable elimination) 방법이라고 한다. "
      ]
    },
    {
      "cell_type": "markdown",
      "metadata": {
        "id": "HcCfMD6I-bd0"
      },
      "source": [
        "pgmpy에서는 `VariableElimination` 클래스를 사용하여 변수제거법을 적용할 수 있다. 생성자 인수로 네트워크 모형을 넣으며 `query` 메서드를 지원한다.\n",
        "\n",
        "* `query(variable_list, evidence)`\n",
        "\n",
        "`variable_list`는 확률분포를 구하려는 확률변수의 리스트이고 `evidence`는 알고 있는 확률변수 값의 딕셔너리이다."
      ]
    },
    {
      "cell_type": "markdown",
      "metadata": {
        "id": "hXKYSxrZ-bd1"
      },
      "source": [
        "아무런 조건이 없을 경우 시험성적의 분포는 다음과 같다. 보통의 성적을 받을 가능성이 가장 높다."
      ]
    },
    {
      "cell_type": "code",
      "metadata": {
        "id": "GorLkq-4-bd2",
        "outputId": "c256c1a8-8b76-4242-8134-bd5fd7c5ca56"
      },
      "source": [
        "from pgmpy.inference import VariableElimination\n",
        "\n",
        "infer = VariableElimination(model)\n",
        "print(infer.query([\"C\"])[\"C\"])"
      ],
      "execution_count": null,
      "outputs": [
        {
          "output_type": "stream",
          "text": [
            "+-----+----------+\n",
            "| C   |   phi(C) |\n",
            "+=====+==========+\n",
            "| C_0 |   0.2680 |\n",
            "+-----+----------+\n",
            "| C_1 |   0.3730 |\n",
            "+-----+----------+\n",
            "| C_2 |   0.3590 |\n",
            "+-----+----------+\n"
          ],
          "name": "stdout"
        }
      ]
    },
    {
      "cell_type": "markdown",
      "metadata": {
        "id": "BQsKcgsM-bd3"
      },
      "source": [
        "이는 A, B의 순서로 marginalize한 것과 같다.\n",
        "\n",
        "$$ P(C) = \\sum_A \\sum_B P(A,B,C) = \\sum_A \\sum_B P(C|B)P(B|A)P(A) $$"
      ]
    },
    {
      "cell_type": "code",
      "metadata": {
        "id": "pIgLpShJ-beA",
        "outputId": "2a06e800-3828-49ae-d030-7a33505d17f2"
      },
      "source": [
        "P_B = (P_B_I_A * P_A).marginalize([\"A\"], inplace=False)\n",
        "P_C = (P_C_I_B * P_B).marginalize([\"B\"], inplace=False)\n",
        "print(P_C)"
      ],
      "execution_count": null,
      "outputs": [
        {
          "output_type": "stream",
          "text": [
            "+-----+-------+\n",
            "| C_0 | 0.268 |\n",
            "+-----+-------+\n",
            "| C_1 | 0.373 |\n",
            "+-----+-------+\n",
            "| C_2 | 0.359 |\n",
            "+-----+-------+\n"
          ],
          "name": "stdout"
        }
      ]
    },
    {
      "cell_type": "markdown",
      "metadata": {
        "id": "HxhYxpt7-beB"
      },
      "source": [
        "만약 건강 상태가 좋았으면 `evidence={\"A\": 2}` 인수를 적용한다. 좋은 성적을 받을 가능성이 가장 높다."
      ]
    },
    {
      "cell_type": "code",
      "metadata": {
        "id": "kWxsS0W9-beB",
        "outputId": "536d8b90-e33b-492e-ac97-599a50ccbef6"
      },
      "source": [
        "print(infer.query([\"C\"], evidence={\"A\": 2})[\"C\"])"
      ],
      "execution_count": null,
      "outputs": [
        {
          "output_type": "stream",
          "text": [
            "+-----+----------+\n",
            "| C   |   phi(C) |\n",
            "+=====+==========+\n",
            "| C_0 |   0.2400 |\n",
            "+-----+----------+\n",
            "| C_1 |   0.2400 |\n",
            "+-----+----------+\n",
            "| C_2 |   0.5200 |\n",
            "+-----+----------+\n"
          ],
          "name": "stdout"
        }
      ]
    },
    {
      "cell_type": "markdown",
      "metadata": {
        "id": "iRGZG-iD-beC"
      },
      "source": [
        "이 결과는 $A=2$라는 확률분포에서 marginalize한 것과 같다."
      ]
    },
    {
      "cell_type": "code",
      "metadata": {
        "id": "Hlm_-d-e-beD",
        "outputId": "0924f066-d27b-4567-ca2f-c4894ae9f37a"
      },
      "source": [
        "P_A2 = TabularCPD('A', 3, [[0, 0, 1]])\n",
        "P_B = (P_B_I_A * P_A2).marginalize([\"A\"], inplace=False)\n",
        "P_C = (P_C_I_B * P_B).marginalize([\"B\"], inplace=False)\n",
        "print(P_C)"
      ],
      "execution_count": null,
      "outputs": [
        {
          "output_type": "stream",
          "text": [
            "+-----+------+\n",
            "| C_0 | 0.24 |\n",
            "+-----+------+\n",
            "| C_1 | 0.24 |\n",
            "+-----+------+\n",
            "| C_2 | 0.52 |\n",
            "+-----+------+\n"
          ],
          "name": "stdout"
        }
      ]
    },
    {
      "cell_type": "markdown",
      "metadata": {
        "id": "i8-A03cC-beE"
      },
      "source": [
        "시험 성적과 공부 시간을 알고 있다면 다음처럼 건강 상태를 유추할 수도 있다."
      ]
    },
    {
      "cell_type": "code",
      "metadata": {
        "id": "D5ugYZWm-beF",
        "outputId": "d1a267a7-3996-46fa-e4f7-339d61f362cb"
      },
      "source": [
        "print(infer.query([\"A\"], evidence={\"B\": 0, \"C\": 2})[\"A\"])"
      ],
      "execution_count": null,
      "outputs": [
        {
          "output_type": "stream",
          "text": [
            "+-----+----------+\n",
            "| A   |   phi(A) |\n",
            "+=====+==========+\n",
            "| A_0 |   0.2500 |\n",
            "+-----+----------+\n",
            "| A_1 |   0.5000 |\n",
            "+-----+----------+\n",
            "| A_2 |   0.2500 |\n",
            "+-----+----------+\n"
          ],
          "name": "stdout"
        }
      ]
    },
    {
      "cell_type": "markdown",
      "metadata": {
        "id": "KsJchrvr-beG"
      },
      "source": [
        "B를 알고 있는 경우 A와 C는 서로 독립이다. 즉, 공부시간을 알고 있으으면 시험성적과 관계없이 건강상태를 유추할 수 있다."
      ]
    },
    {
      "cell_type": "code",
      "metadata": {
        "id": "JE1mX1jt-be1",
        "outputId": "3d315e44-5b2b-42df-dd87-9b442f0b9056"
      },
      "source": [
        "print(infer.query([\"A\"], evidence={\"B\": 0})[\"A\"])"
      ],
      "execution_count": null,
      "outputs": [
        {
          "output_type": "stream",
          "text": [
            "+-----+----------+\n",
            "| A   |   phi(A) |\n",
            "+=====+==========+\n",
            "| A_0 |   0.2500 |\n",
            "+-----+----------+\n",
            "| A_1 |   0.5000 |\n",
            "+-----+----------+\n",
            "| A_2 |   0.2500 |\n",
            "+-----+----------+\n"
          ],
          "name": "stdout"
        }
      ]
    },
    {
      "cell_type": "markdown",
      "metadata": {
        "id": "_2KZmzLp-be2"
      },
      "source": [
        "이 추론은 조건부확률 $P(A|B)$를 구하는 것과 같다.\n",
        "\n",
        "$$ P(A|B) = P(B|A)P(A)/P(B) $$\n",
        "\n",
        "$P(B)$는 동일하므로 무시할 수 있다.\n",
        "\n",
        "$$ P(A|B) \\propto P(B|A)P(A) $$"
      ]
    },
    {
      "cell_type": "code",
      "metadata": {
        "id": "OB2uUXm--be3",
        "outputId": "40604889-efe1-472b-eaed-2fc4872b06af"
      },
      "source": [
        "print(P_B_I_A * P_A)"
      ],
      "execution_count": null,
      "outputs": [
        {
          "output_type": "stream",
          "text": [
            "+-----+----------------------+------+------+\n",
            "| A   | A_0                  | A_1  | A_2  |\n",
            "+-----+----------------------+------+------+\n",
            "| B_0 | 0.06                 | 0.12 | 0.06 |\n",
            "+-----+----------------------+------+------+\n",
            "| B_1 | 0.03                 | 0.3  | 0.06 |\n",
            "+-----+----------------------+------+------+\n",
            "| B_2 | 0.010000000000000002 | 0.18 | 0.18 |\n",
            "+-----+----------------------+------+------+\n"
          ],
          "name": "stdout"
        }
      ]
    },
    {
      "cell_type": "markdown",
      "metadata": {
        "id": "7Vr_Lmnv-be4"
      },
      "source": [
        "특정한 값에 대한 조건 확률을 구하기 위해 factor로 바꾼 뒤 reduce 메소스들 수행한다."
      ]
    },
    {
      "cell_type": "code",
      "metadata": {
        "id": "9WIsw1Xz-be4",
        "outputId": "2416cf6b-797d-4945-d99d-cf9755c90ae8"
      },
      "source": [
        "print((P_B_I_A * P_A).to_factor().reduce([(\"B\", 0)], inplace=False).normalize(inplace=False))"
      ],
      "execution_count": null,
      "outputs": [
        {
          "output_type": "stream",
          "text": [
            "+-----+----------+\n",
            "| A   |   phi(A) |\n",
            "+=====+==========+\n",
            "| A_0 |   0.2500 |\n",
            "+-----+----------+\n",
            "| A_1 |   0.5000 |\n",
            "+-----+----------+\n",
            "| A_2 |   0.2500 |\n",
            "+-----+----------+\n"
          ],
          "name": "stdout"
        }
      ]
    },
    {
      "cell_type": "markdown",
      "metadata": {
        "school_cell_uuid": "08c1e691381449c19394d577db7b52a0",
        "id": "Dv1yAfbl-be5"
      },
      "source": [
        "## 몬티 홀 문제"
      ]
    },
    {
      "cell_type": "markdown",
      "metadata": {
        "id": "aXJP85j5-be6"
      },
      "source": [
        "베이지안 네트워크를 사용하여 몬티 홀 문제를 풀어보자. 0, 1, 2로 표시된 3개의 문 중에서 자동차(car)가 있는 문을 나타내는 확률변수는 C, 참가자(player)가 고른 문은 P, 진행자(host)가 여는 문을 H라고 하자.\n",
        "\n",
        "자동차가 어떤 문에 있는가와 참가자가 어떤 문을 고르는지는 모두 같은 확률을 가진다."
      ]
    },
    {
      "cell_type": "code",
      "metadata": {
        "school_cell_uuid": "c6bd639a97cc41eb907633ec7efaf590",
        "id": "6UvWt-Rj-be8",
        "outputId": "520ec98b-ca24-4106-cf7c-3fade9e9e582"
      },
      "source": [
        "from pgmpy.factors.discrete import TabularCPD\n",
        "\n",
        "P_C = TabularCPD('C', 3, [[0.33, 0.33, 0.33]])\n",
        "print(P_C)"
      ],
      "execution_count": null,
      "outputs": [
        {
          "output_type": "stream",
          "text": [
            "+-----+------+\n",
            "| C_0 | 0.33 |\n",
            "+-----+------+\n",
            "| C_1 | 0.33 |\n",
            "+-----+------+\n",
            "| C_2 | 0.33 |\n",
            "+-----+------+\n"
          ],
          "name": "stdout"
        }
      ]
    },
    {
      "cell_type": "code",
      "metadata": {
        "school_cell_uuid": "f17fce98c1294153bbd6176c0d60e0ad",
        "id": "WoFfv9mm-bfA",
        "outputId": "d310c2c3-9c08-442f-8596-b786fed08a16"
      },
      "source": [
        "P_P = TabularCPD('P', 3, [[0.33, 0.33, 0.33]])\n",
        "print(P_P)"
      ],
      "execution_count": null,
      "outputs": [
        {
          "output_type": "stream",
          "text": [
            "+-----+------+\n",
            "| P_0 | 0.33 |\n",
            "+-----+------+\n",
            "| P_1 | 0.33 |\n",
            "+-----+------+\n",
            "| P_2 | 0.33 |\n",
            "+-----+------+\n"
          ],
          "name": "stdout"
        }
      ]
    },
    {
      "cell_type": "markdown",
      "metadata": {
        "id": "KFok--gH-bfB"
      },
      "source": [
        "하지만 진행자가 여는 문은 자동차의 위치와 참가자의 선택에 따라 달라진다. 진행자는 항상 참가자가 고르지 않은 문 중에서 자동차가 없는 문을 연다."
      ]
    },
    {
      "cell_type": "code",
      "metadata": {
        "school_cell_uuid": "3676f13d27a84765af7f11d367e1e25e",
        "id": "BUMqmxJ9-bfC",
        "outputId": "fe82c8a0-e680-42c1-e966-28b6d0659c61"
      },
      "source": [
        "P_H_I_CP = TabularCPD('H', 3, [[0,   0, 0, 0, 0.5, 1, 0, 1, 0.5], \n",
        "                               [0.5, 0, 1, 0,   0, 0, 1, 0, 0.5], \n",
        "                               [0.5, 1, 0, 1, 0.5, 0, 0, 0, 0  ]],\n",
        "                      evidence=['C', 'P'], evidence_card=[3, 3])\n",
        "print(P_H_I_CP)"
      ],
      "execution_count": null,
      "outputs": [
        {
          "output_type": "stream",
          "text": [
            "+-----+-----+-----+-----+-----+-----+-----+-----+-----+-----+\n",
            "| C   | C_0 | C_0 | C_0 | C_1 | C_1 | C_1 | C_2 | C_2 | C_2 |\n",
            "+-----+-----+-----+-----+-----+-----+-----+-----+-----+-----+\n",
            "| P   | P_0 | P_1 | P_2 | P_0 | P_1 | P_2 | P_0 | P_1 | P_2 |\n",
            "+-----+-----+-----+-----+-----+-----+-----+-----+-----+-----+\n",
            "| H_0 | 0.0 | 0.0 | 0.0 | 0.0 | 0.5 | 1.0 | 0.0 | 1.0 | 0.5 |\n",
            "+-----+-----+-----+-----+-----+-----+-----+-----+-----+-----+\n",
            "| H_1 | 0.5 | 0.0 | 1.0 | 0.0 | 0.0 | 0.0 | 1.0 | 0.0 | 0.5 |\n",
            "+-----+-----+-----+-----+-----+-----+-----+-----+-----+-----+\n",
            "| H_2 | 0.5 | 1.0 | 0.0 | 1.0 | 0.5 | 0.0 | 0.0 | 0.0 | 0.0 |\n",
            "+-----+-----+-----+-----+-----+-----+-----+-----+-----+-----+\n"
          ],
          "name": "stdout"
        }
      ]
    },
    {
      "cell_type": "markdown",
      "metadata": {
        "id": "Ouvl5ECT-bfD"
      },
      "source": [
        "베이지안 네트워크로 확률모형을 만든다. 진행자의 선택 H는 자동차 위치 C와 참가자 선택 P에 모두 영향을 받는 머리-머리 결합이다."
      ]
    },
    {
      "cell_type": "code",
      "metadata": {
        "school_cell_uuid": "794210c441f8428b95178bfb08a7d43f",
        "id": "iRanFIth-bfE",
        "outputId": "0203c27e-8bc1-4f4f-b4cb-e45f5c2aac2c"
      },
      "source": [
        "from pgmpy.models import BayesianModel\n",
        "from IPython.core.display import Image\n",
        "from networkx.drawing.nx_pydot import to_pydot\n",
        "\n",
        "model_monty = BayesianModel([('C', 'H'), ('P', 'H')])\n",
        "model_monty.add_cpds(P_C, P_P, P_H_I_CP)\n",
        "\n",
        "d = to_pydot(model_monty)\n",
        "d.set_dpi(300)\n",
        "d.set_margin(0.2)\n",
        "Image(d.create_png(), width=400)"
      ],
      "execution_count": null,
      "outputs": [
        {
          "output_type": "execute_result",
          "data": {
            "image/png": "[encoded data removed]",
            "text/plain": [
              "<IPython.core.display.Image object>"
            ]
          },
          "metadata": {
            "tags": [],
            "image/png": {
              "width": 400
            }
          },
          "execution_count": 13
        }
      ]
    },
    {
      "cell_type": "markdown",
      "metadata": {
        "id": "JQQtNzBk-bfF"
      },
      "source": [
        "변수제거 방법을 사용하여 이 문제를 푼다."
      ]
    },
    {
      "cell_type": "code",
      "metadata": {
        "school_cell_uuid": "a913c86d23c546d8812ee2790d5eb577",
        "id": "QnTw4Ydh-bfG"
      },
      "source": [
        "from pgmpy.inference import VariableElimination\n",
        "\n",
        "infer = VariableElimination(model_monty)"
      ],
      "execution_count": null,
      "outputs": []
    },
    {
      "cell_type": "markdown",
      "metadata": {
        "id": "zMQk-09a-bfH"
      },
      "source": [
        "만약 참가자가 0번 문을 선택하면 진행자는 1번 혹은 2번 문을 연다."
      ]
    },
    {
      "cell_type": "code",
      "metadata": {
        "school_cell_uuid": "9a78c11bcfcb4df7a996a3a8a0e28e2c",
        "id": "BMQDz_cz-bfI",
        "outputId": "9d01feae-9d65-400e-b27a-5b7a1feb8647"
      },
      "source": [
        "posteriors = infer.query(['C', 'H'], evidence={'P': 0})\n",
        "print(posteriors['H'])"
      ],
      "execution_count": null,
      "outputs": [
        {
          "output_type": "stream",
          "text": [
            "+-----+----------+\n",
            "| H   |   phi(H) |\n",
            "+=====+==========+\n",
            "| H_0 |   0.0000 |\n",
            "+-----+----------+\n",
            "| H_1 |   0.5000 |\n",
            "+-----+----------+\n",
            "| H_2 |   0.5000 |\n",
            "+-----+----------+\n"
          ],
          "name": "stdout"
        }
      ]
    },
    {
      "cell_type": "markdown",
      "metadata": {
        "id": "T3R115bS-bfM"
      },
      "source": [
        "참가자가 0번 문을 선택하고 진행자가 1번 문을 열면 차가 2번 문에 있을 확률이 0번 문에 있을 확률의 2배이다."
      ]
    },
    {
      "cell_type": "code",
      "metadata": {
        "school_cell_uuid": "d6e9883ad4984bdfa451a45fbe333efc",
        "id": "trWhnuSq-bfQ",
        "outputId": "1f8bac88-ed95-4dcb-a974-76cd1f419463"
      },
      "source": [
        "posterior_c = infer.query(['C'], evidence={'P': 0, 'H': 1})\n",
        "print(posterior_c['C'])"
      ],
      "execution_count": null,
      "outputs": [
        {
          "output_type": "stream",
          "text": [
            "+-----+----------+\n",
            "| C   |   phi(C) |\n",
            "+=====+==========+\n",
            "| C_0 |   0.3333 |\n",
            "+-----+----------+\n",
            "| C_1 |   0.0000 |\n",
            "+-----+----------+\n",
            "| C_2 |   0.6667 |\n",
            "+-----+----------+\n"
          ],
          "name": "stdout"
        }
      ]
    },
    {
      "cell_type": "markdown",
      "metadata": {
        "id": "xxs7R5hw-bfR"
      },
      "source": [
        "같은 상황에서 진행자가 2번 문을 열면 차가 1번 문에 있을 확률이 0번 문에 있을 확률의 2배이다. 따라서 참가자는 항상 선택을 바꾸는 것이 좋다."
      ]
    },
    {
      "cell_type": "code",
      "metadata": {
        "school_cell_uuid": "f88bb81db9464f7a865028d024f768ac",
        "id": "-q-X30-s-bfS",
        "outputId": "9948c319-ee7d-4862-81cd-0dff55562d5a"
      },
      "source": [
        "posterior_c = infer.query(['C'], evidence={'P': 1, 'H': 2})\n",
        "print(posterior_c['C'])"
      ],
      "execution_count": null,
      "outputs": [
        {
          "output_type": "stream",
          "text": [
            "+-----+----------+\n",
            "| C   |   phi(C) |\n",
            "+=====+==========+\n",
            "| C_0 |   0.6667 |\n",
            "+-----+----------+\n",
            "| C_1 |   0.3333 |\n",
            "+-----+----------+\n",
            "| C_2 |   0.0000 |\n",
            "+-----+----------+\n"
          ],
          "name": "stdout"
        }
      ]
    },
    {
      "cell_type": "markdown",
      "metadata": {
        "id": "gj1Ifbh0-bfT"
      },
      "source": [
        "## 신뢰전파"
      ]
    },
    {
      "cell_type": "markdown",
      "metadata": {
        "id": "on3YHRx9-bfV"
      },
      "source": [
        "신뢰전파(belief propagation) 방법은 메시지 전달(message passin) 방법이라고도 한다. 여기에서는 선형 체인(linear chain) 형태의 마코프 네트워크를 예로 들어 설명하겠지만 일반적인 형태의 네트워크에서도 성립한다.\n",
        "\n",
        "$X_1, \\ldots, X_N$의 $N$개 확률변수가 선형사슬로 연결된 마코프 네트워크에서 결합확률분포는\n",
        "\n",
        "$$\n",
        "p(X_1, \\ldots, X_N) = \\dfrac{1}{Z}\\psi(X_1, X_2) \\psi(X_2, X_3) \\cdots \\psi(X_{N-1}, X_{N}) \n",
        "$$\n",
        "\n",
        "이다. 사슬 중간에 있는 $X_n$의 확률분포를 알아내려면 전체확률의 법칙을 사용하여 $X_n$을 제외한 나머지 확률변수들이 가질 수 있는 모든 경우의 확률을 더한다.\n",
        "\n",
        "$$\n",
        "\\begin{eqnarray}\n",
        "p(X_n) \n",
        "&=& \\sum_{X_1} \\cdots \\sum_{X_{n-1}} \\sum_{X_{n+1}} \\cdots \\sum_{X_N} p(X_1, \\ldots, X_N) \\\\\n",
        "&=& \\dfrac{1}{Z} \\sum_{X_1} \\cdots \\sum_{X_{n-1}} \\sum_{X_{n+1}} \\cdots \\sum_{X_N} \\psi(X_1, X_2) \\psi(X_2, X_3) \\cdots \\psi(X_{N-1}, X_{N}) \\\\\n",
        "\\end{eqnarray}\n",
        "$$"
      ]
    },
    {
      "cell_type": "markdown",
      "metadata": {
        "id": "16NjBAQe-bfW"
      },
      "source": [
        "이 수식을 정리하면 다음처럼 쓸 수 있다.\n",
        "\n",
        "$$\n",
        "p(X_n) = \\dfrac{1}{Z} \\\\\n",
        "\\underbrace{\\left(\\sum_{X_{n-1}} \\psi(X_{n-1}, X_n) \\left( \\sum_{X_{n-2}} \\psi(X_{n-2}, X_{n-1}) \\cdots \\left( \\sum_{X_1} \\psi(X_1, X_2) \\right) \\right)\\right)}_{\\mu_{\\alpha}(X_n)} \\\\\n",
        "\\underbrace{\\left( \\sum_{X_{n+1}} \\psi(X_{n}, X_{n+1}) \\left( \\sum_{X_{n+2}} \\psi(X_{n+1}, X_{n+2}) \\cdots \\left( \\sum_{X_N} \\psi(X_{N-1}, X_{N}) \\right) \\right) \\right)}_{\\mu_{\\beta}(X_n)} \\\\\n",
        "= \\dfrac{1}{Z} \\mu_{\\alpha}(X_n) \\mu_{\\beta}(X_n)\n",
        "$$\n",
        "\n",
        "이 식에서 $\\mu_{\\alpha}(X_n)$와 $\\mu_{\\beta}(X_n)$를 $X_n$에 도달하는 좌측, 우측 메시지(message) 함수라고 한다."
      ]
    },
    {
      "cell_type": "markdown",
      "metadata": {
        "id": "pc7DO-p5-bfa"
      },
      "source": [
        "메시지 함수는 재귀적으로 계산할 수 있다.\n",
        "\n",
        "$$\n",
        "\\begin{eqnarray}\n",
        "\\mu_{\\alpha}(X_n)\n",
        "&=& \\sum_{X_{n-1}} \\psi(X_{n-1}, X_n) \\left( \\sum_{X_{n-2}} \\psi(X_{n-2}, X_{n-1}) \\cdots \\left( \\sum_{X_1} \\psi(X_1, X_2) \\right) \\right) \\\\\n",
        "&=& \\sum_{X_{n-1}} \\psi(X_{n-1}, X_n) \\mu_{\\alpha}(X_{n-1}) \\\\\n",
        "\\mu_{\\alpha}(X_2) &=& \\sum_{X_1} \\psi(X_1, X_2)\n",
        "\\end{eqnarray}\n",
        "$$"
      ]
    },
    {
      "cell_type": "markdown",
      "metadata": {
        "id": "a_I_un3H-bfb"
      },
      "source": [
        "<img src=\"https://datascienceschool.net/upfiles/2f773a48123b461fa29f82f69c73d699.png\">"
      ]
    },
    {
      "cell_type": "markdown",
      "metadata": {
        "id": "uMvaB2bE-bfb"
      },
      "source": [
        "건강 상태 및 시험 성적과 관련된 예제를 마코프 네트워크로 변형하여 신뢰전파를 적용해보자."
      ]
    },
    {
      "cell_type": "code",
      "metadata": {
        "id": "hrL8Ksvi-bfj",
        "outputId": "f8842fc6-db2c-40f2-b6a2-b8e854240bfd"
      },
      "source": [
        "model2 = model.to_markov_model()\n",
        "\n",
        "d = to_pydot(model2)\n",
        "d.set_dpi(300)\n",
        "d.set_margin(0.2)\n",
        "d.set_rankdir(\"LR\")\n",
        "Image(d.create_png(), width=400)"
      ],
      "execution_count": null,
      "outputs": [
        {
          "output_type": "execute_result",
          "data": {
            "image/png": "[encoded data removed]",
            "text/plain": [
              "<IPython.core.display.Image object>"
            ]
          },
          "metadata": {
            "tags": [],
            "image/png": {
              "width": 400
            }
          },
          "execution_count": 18
        }
      ]
    },
    {
      "cell_type": "markdown",
      "metadata": {
        "id": "9rvkmHKF-bfk"
      },
      "source": [
        "pgmpy에서는 `BeliefPropagation` 클래스를 사용하여 신뢰전파법을 적용할 수 있다. 사용법은 `VariableElimination`과 같다."
      ]
    },
    {
      "cell_type": "code",
      "metadata": {
        "id": "n9d-iVny-bfl",
        "outputId": "a9670d8d-89c0-4dee-9853-af3419d8eec0"
      },
      "source": [
        "from pgmpy.inference import BeliefPropagation\n",
        "infer = BeliefPropagation(model)\n",
        "print(infer.query([\"C\"])[\"C\"])"
      ],
      "execution_count": null,
      "outputs": [
        {
          "output_type": "stream",
          "text": [
            "+-----+----------+\n",
            "| C   |   phi(C) |\n",
            "+=====+==========+\n",
            "| C_0 |   0.2680 |\n",
            "+-----+----------+\n",
            "| C_1 |   0.3730 |\n",
            "+-----+----------+\n",
            "| C_2 |   0.3590 |\n",
            "+-----+----------+\n"
          ],
          "name": "stdout"
        }
      ]
    },
    {
      "cell_type": "code",
      "metadata": {
        "id": "oD-bOBxD-bfm",
        "outputId": "8b936b58-1df1-4c85-e94c-13a2ce5d8d4e"
      },
      "source": [
        "print(infer.query([\"C\"], evidence={\"A\": 2})[\"C\"])"
      ],
      "execution_count": null,
      "outputs": [
        {
          "output_type": "stream",
          "text": [
            "+-----+----------+\n",
            "| C   |   phi(C) |\n",
            "+=====+==========+\n",
            "| C_0 |   0.2400 |\n",
            "+-----+----------+\n",
            "| C_1 |   0.2400 |\n",
            "+-----+----------+\n",
            "| C_2 |   0.5200 |\n",
            "+-----+----------+\n"
          ],
          "name": "stdout"
        }
      ]
    },
    {
      "cell_type": "code",
      "metadata": {
        "id": "N4zCfky7-bfn",
        "outputId": "35bf2591-91f4-4856-c543-55f38fdcd176"
      },
      "source": [
        "print(infer.query([\"A\"], evidence={\"B\": 0, \"C\": 2})[\"A\"])"
      ],
      "execution_count": null,
      "outputs": [
        {
          "output_type": "stream",
          "text": [
            "+-----+----------+\n",
            "| A   |   phi(A) |\n",
            "+=====+==========+\n",
            "| A_0 |   0.2500 |\n",
            "+-----+----------+\n",
            "| A_1 |   0.5000 |\n",
            "+-----+----------+\n",
            "| A_2 |   0.2500 |\n",
            "+-----+----------+\n"
          ],
          "name": "stdout"
        }
      ]
    }
  ]
}